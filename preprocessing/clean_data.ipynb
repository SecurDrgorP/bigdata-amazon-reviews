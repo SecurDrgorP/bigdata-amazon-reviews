{
 "cells": [
  {
   "cell_type": "code",
   "execution_count": null,
   "id": "2e26254c",
   "metadata": {},
   "outputs": [],
   "source": [
    "import pandas as pd\n",
    "import numpy as np\n",
    "import spacy\n",
    "import re\n",
    "import os\n",
    "import joblib\n",
    "from sklearn.feature_extraction.text import TfidfVectorizer\n",
    "from sklearn.model_selection import train_test_split"
   ]
  },
  {
   "cell_type": "code",
   "execution_count": null,
   "id": "c557077a",
   "metadata": {},
   "outputs": [],
   "source": [
    "# Make sure the data directory exists\n",
    "os.makedirs(\"../data\", exist_ok=True)\n",
    "\n",
    "print(\"Loading data...\")\n",
    "# Charger les données\n",
    "data = pd.read_json(\"../data/reviews.json\", lines=True)\n"
   ]
  },
  {
   "cell_type": "code",
   "execution_count": null,
   "id": "defb8445",
   "metadata": {},
   "outputs": [],
   "source": [
    "# Display information about the data\n",
    "print(f\"Loaded data: {data.shape[0]} reviews\")\n",
    "print(\"\\nData preview:\")\n",
    "print(data.head(2))\n",
    "\n",
    "print(\"\\nColumn types:\")\n",
    "print(data.dtypes)\n",
    "\n",
    "print(\"\\nStatistics on ratings (overall):\")\n",
    "print(data['overall'].describe())\n",
    "print(\"\\nDistribution of ratings:\")\n",
    "print(data['overall'].value_counts().sort_index())\n",
    "\n",
    "print(\"\\nChecking for null values:\")\n",
    "print(data.isnull().sum())\n"
   ]
  },
  {
   "cell_type": "code",
   "execution_count": null,
   "id": "b08ac174",
   "metadata": {},
   "outputs": [],
   "source": [
    "# Text cleaning\n",
    "print(\"\\nCleaning text...\")\n",
    "def clean_text(text):\n",
    "    # Convert to string in case we have non-string inputs\n",
    "    text = str(text)\n",
    "    # Remove non-alphabetic characters (except spaces)\n",
    "    text = re.sub(r'[^a-zA-Z\\s]', '', text)\n",
    "    # Convert to lowercase\n",
    "    text = text.lower()\n",
    "    # Remove extra spaces\n",
    "    text = re.sub(r'\\s+', ' ', text).strip()\n",
    "    return text\n",
    "\n",
    "data['cleaned_text'] = data['reviewText'].apply(clean_text)\n"
   ]
  },
  {
   "cell_type": "code",
   "execution_count": null,
   "id": "2f7b7df5",
   "metadata": {},
   "outputs": [],
   "source": [
    "# Check for empty text after cleaning\n",
    "empty_text_count = (data['cleaned_text'] == '').sum()\n",
    "print(f\"Empty texts after cleaning: {empty_text_count}\")\n",
    "if empty_text_count > 0:\n",
    "    # Replace empty text with a placeholder\n",
    "    data['cleaned_text'] = data['cleaned_text'].replace('', 'no text available')\n"
   ]
  },
  {
   "cell_type": "code",
   "execution_count": null,
   "id": "16dbc2fe",
   "metadata": {},
   "outputs": [],
   "source": [
    "# Lemmatization with spaCy\n",
    "print(\"\\nLoading spaCy model...\")\n",
    "try:\n",
    "    nlp = spacy.load(\"en_core_web_sm\")\n",
    "except OSError:\n",
    "    print(\"Downloading spaCy model...\")\n",
    "    import subprocess\n",
    "    subprocess.run([\"python\", \"-m\", \"spacy\", \"download\", \"en_core_web_sm\"])\n",
    "    nlp = spacy.load(\"en_core_web_sm\")\n",
    "\n",
    "print(\"Lemmatizing texts...\")\n",
    "def lemmatize(text):\n",
    "    # Limit text length for processing efficiency\n",
    "    text = text[:100000]  # Limit to first 100K chars to avoid memory issues\n",
    "    doc = nlp(text)\n",
    "    # Get lemmas for tokens that aren't stop words\n",
    "    lemmas = [token.lemma_ for token in doc if not token.is_stop]\n",
    "    if not lemmas:  # If all tokens were stop words\n",
    "        return text  # Return original cleaned text\n",
    "    return ' '.join(lemmas)\n"
   ]
  },
  {
   "cell_type": "code",
   "execution_count": null,
   "id": "4c564cd2",
   "metadata": {},
   "outputs": [],
   "source": [
    "# Apply lemmatization with error handling\n",
    "print(\"Applying lemmatization...\")\n",
    "lemmatized_texts = []\n",
    "for i, text in enumerate(data['cleaned_text']):\n",
    "    try:\n",
    "        lemmatized = lemmatize(text)\n",
    "        lemmatized_texts.append(lemmatized)\n",
    "        if i % 1000 == 0:\n",
    "            print(f\"Processing: {i}/{len(data)}\")\n",
    "    except Exception as e:\n",
    "        print(f\"Error during lemmatization at index {i}: {e}\")\n",
    "        lemmatized_texts.append(text)  # Use cleaned text as fallback\n",
    "\n",
    "data['lemmatized_text'] = lemmatized_texts\n"
   ]
  },
  {
   "cell_type": "code",
   "execution_count": null,
   "id": "73c6a374",
   "metadata": {},
   "outputs": [],
   "source": [
    "# Define the target class\n",
    "print(\"\\nDefining sentiment classes...\")\n",
    "def label(overall):\n",
    "    # Ensure overall is a number\n",
    "    try:\n",
    "        overall = float(overall)\n",
    "    except (ValueError, TypeError):\n",
    "        return None  # Return None for invalid values\n",
    "        \n",
    "    if overall < 3:\n",
    "        return 0  # negative\n",
    "    elif overall == 3:\n",
    "        return 1  # neutral\n",
    "    else:\n",
    "        return 2  # positive\n",
    "\n",
    "data['label'] = data['overall'].apply(label)\n"
   ]
  },
  {
   "cell_type": "code",
   "execution_count": null,
   "id": "4b369daf",
   "metadata": {},
   "outputs": [],
   "source": [
    "# Verify there are no None values in label\n",
    "null_labels = data['label'].isnull().sum()\n",
    "if null_labels > 0:\n",
    "    print(f\"WARNING: {null_labels} null labels found!\")\n",
    "    print(\"Removing rows with null labels...\")\n",
    "    data = data.dropna(subset=['label'])\n"
   ]
  },
  {
   "cell_type": "code",
   "execution_count": null,
   "id": "e544c760",
   "metadata": {},
   "outputs": [],
   "source": [
    "# Ensure label is integer type\n",
    "data['label'] = data['label'].astype(int)\n",
    "\n",
    "print(\"\\nDistribution of sentiment classes:\")\n",
    "print(data['label'].value_counts().sort_index())"
   ]
  },
  {
   "cell_type": "code",
   "execution_count": null,
   "id": "050a5b2b",
   "metadata": {},
   "outputs": [],
   "source": [
    "# TF-IDF Vectorization\n",
    "print(\"\\nTF-IDF Vectorization...\")\n",
    "vectorizer = TfidfVectorizer(max_features=5000)\n",
    "X = vectorizer.fit_transform(data['lemmatized_text'])\n",
    "\n",
    "print(f\"Shape of the vectorized corpus: {X.shape}\")\n"
   ]
  },
  {
   "cell_type": "code",
   "execution_count": null,
   "id": "47e220e8",
   "metadata": {},
   "outputs": [],
   "source": [
    "# Saving for future training\n",
    "print(\"\\nSplitting data into train/val/test...\")\n",
    "y = data['label']\n",
    "X_train, X_temp, y_train, y_temp = train_test_split(X, y, test_size=0.2, random_state=42)\n",
    "X_val, X_test, y_val, y_test = train_test_split(X_temp, y_temp, test_size=0.5)\n",
    "\n",
    "print(f\"Training set: {X_train.shape[0]} samples\")\n",
    "print(f\"Validation set: {X_val.shape[0]} samples\")\n",
    "print(f\"Test set: {X_test.shape[0]} samples\")\n",
    "\n",
    "# Saving\n",
    "print(\"\\nSaving processed data...\")\n",
    "\n",
    "# Saving for PySpark/ML\n",
    "print(\"Saving as CSV (for Spark)...\")\n",
    "# Select columns needed for Spark ML\n",
    "columns_for_spark = ['reviewerID', 'overall', 'lemmatized_text', 'label']\n",
    "data_for_spark = data[columns_for_spark].copy()\n"
   ]
  },
  {
   "cell_type": "code",
   "execution_count": null,
   "id": "d809c55d",
   "metadata": {},
   "outputs": [],
   "source": [
    "# Final verification before saving\n",
    "print(\"\\nFinal verification before saving:\")\n",
    "print(\"Column types:\")\n",
    "print(data_for_spark.dtypes)\n",
    "print(\"\\nPreview of data to be saved:\")\n",
    "print(data_for_spark.head())\n"
   ]
  },
  {
   "cell_type": "code",
   "execution_count": null,
   "id": "c6bb7b07",
   "metadata": {},
   "outputs": [],
   "source": [
    "# Save to CSV\n",
    "data_for_spark.to_csv(\"../data/cleaned_reviews.csv\", index=False)\n",
    "\n",
    "# Save vectorizer model\n",
    "print(\"Saving the vectorizer...\")\n",
    "joblib.dump(vectorizer, \"../data/vectorizer.pkl\")\n",
    "\n",
    "# Save spaCy model\n",
    "print(\"Saving the spaCy model...\")\n",
    "nlp.to_disk(\"../data/spacy_model\")\n",
    "\n",
    "# Save NumPy arrays\n",
    "print(\"Saving NumPy arrays...\")\n",
    "np.savez(\"../data/processed_data.npz\", \n",
    "         X_train=X_train.toarray(), \n",
    "         y_train=y_train,\n",
    "         X_val=X_val.toarray(), \n",
    "         y_val=y_val, \n",
    "         X_test=X_test.toarray(), \n",
    "         y_test=y_test)\n",
    "\n",
    "print(\"\\nFinal verification before saving:\")\n",
    "print(\"Column types:\")\n",
    "print(data_for_spark.dtypes)\n",
    "print(\"\\nPreview of data to be saved:\")\n",
    "print(data_for_spark.head())\n",
    "\n",
    "print(\"\\nProcessing complete. Data saved in the ../data/ folder.\")\n"
   ]
  }
 ],
 "metadata": {
  "kernelspec": {
   "display_name": ".VENV",
   "language": "python",
   "name": "python3"
  },
  "language_info": {
   "codemirror_mode": {
    "name": "ipython",
    "version": 3
   },
   "file_extension": ".py",
   "mimetype": "text/x-python",
   "name": "python",
   "nbconvert_exporter": "python",
   "pygments_lexer": "ipython3",
   "version": "3.11.12"
  }
 },
 "nbformat": 4,
 "nbformat_minor": 5
}
